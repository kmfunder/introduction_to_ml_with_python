{
 "cells": [
  {
   "cell_type": "markdown",
   "id": "797a80a5-091e-43e3-a210-c0eed98863d8",
   "metadata": {},
   "source": [
    "# Introduction to Machine Learning with Python"
   ]
  },
  {
   "cell_type": "markdown",
   "id": "93b53ec8-b3f0-4484-8147-cd2c2bb2bd10",
   "metadata": {},
   "source": [
    "This textbook was written by [Andreas Muller and Sarah Guido](http://amueller.github.io/) and published in 2017. I purchased this text to accompany the [Applied Machine Learning](https://github.com/kmfunder/fall2019) course that I took through the NIH in the fall of 2019. All the code from the text can be found on [GitHub](https://github.com/amueller/introduction_to_ml_with_python)."
   ]
  },
  {
   "cell_type": "markdown",
   "id": "5a2519ef-80b3-443b-8fae-a8bf50147fcd",
   "metadata": {
    "tags": []
   },
   "source": [
    "## Learning Goals\n",
    "\n",
    "- Chapter 2: [Supervised Learning](#supervised-learning)\n",
    "- Chapter 3: [Unsupervised Learning and Preprocessing](#unsupervised-learning-and-preprocessing)\n",
    "- Chapter 4: [Representing Data and Engineering Features](#representing-data-and-engineering-features)\n",
    "- Chapter 5: [Model Evaluation and Improvement](#model-evaluation-and-improvement)\n",
    "- Chapter 6: [Algorithm Chains and Pipelines](#algorithm-chains-and-pipelines)\n",
    "- Chapter 7: [Working with Text Data](#working-with-text-data)"
   ]
  },
  {
   "cell_type": "markdown",
   "id": "61a56b40-c8bd-40d2-a1f3-1bdeb7b690cc",
   "metadata": {},
   "source": [
    "## Supervised Learning\n",
    "\n",
    "### 1. k-Nearest Neighbors"
   ]
  },
  {
   "cell_type": "markdown",
   "id": "46b5fc11-fee0-4eeb-98da-291c3115ce7c",
   "metadata": {},
   "source": [
    "## Unsupervised Learning and Preprocessing"
   ]
  },
  {
   "cell_type": "markdown",
   "id": "a0fd1996-502b-4e15-abf4-a4e97258efdb",
   "metadata": {},
   "source": [
    "## Representing Data and Engineering Features"
   ]
  },
  {
   "cell_type": "markdown",
   "id": "735e5009-82f8-4470-8c85-ea770abf901f",
   "metadata": {},
   "source": [
    "## Model Evaluation and Improvement"
   ]
  },
  {
   "cell_type": "markdown",
   "id": "d3aa2e3d-de72-4911-bd0e-e1616a65431b",
   "metadata": {},
   "source": [
    "## Algorithm Chains and Pipelines"
   ]
  },
  {
   "cell_type": "markdown",
   "id": "83393f7d-815e-4b90-b5ba-cde39f9c7215",
   "metadata": {},
   "source": [
    "## Working with Text Data"
   ]
  },
  {
   "cell_type": "markdown",
   "id": "72df5fb6-2c75-4394-8bc6-a3b3153fe12c",
   "metadata": {},
   "source": []
  }
 ],
 "metadata": {
  "kernelspec": {
   "display_name": "Python 3 (ipykernel)",
   "language": "python",
   "name": "python3"
  },
  "language_info": {
   "codemirror_mode": {
    "name": "ipython",
    "version": 3
   },
   "file_extension": ".py",
   "mimetype": "text/x-python",
   "name": "python",
   "nbconvert_exporter": "python",
   "pygments_lexer": "ipython3",
   "version": "3.7.12"
  }
 },
 "nbformat": 4,
 "nbformat_minor": 5
}
